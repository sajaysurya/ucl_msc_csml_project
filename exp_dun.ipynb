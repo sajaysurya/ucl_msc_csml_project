{
 "cells": [
  {
   "cell_type": "code",
   "execution_count": 1,
   "metadata": {},
   "outputs": [],
   "source": [
    "'''\n",
    "experiment - semi-converging EM\n",
    "'''\n",
    "import numpy as np\n",
    "import pandas as pd\n",
    "from tqdm import tqdm_notebook as tqdm\n",
    "from matplotlib import pyplot as plt\n",
    "import seaborn as sns\n",
    "import agent\n",
    "import dungeon as fl\n",
    "import utils\n",
    "\n",
    "# pretify\n",
    "sns.set_style('whitegrid')"
   ]
  },
  {
   "cell_type": "code",
   "execution_count": 2,
   "metadata": {},
   "outputs": [],
   "source": [
    "'''\n",
    "data structures to store the results\n",
    "'''\n",
    "log = pd.DataFrame(columns=['algorithm',\n",
    "                           'average-reward/time-step'])"
   ]
  },
  {
   "cell_type": "code",
   "execution_count": 3,
   "metadata": {},
   "outputs": [],
   "source": [
    "'''\n",
    "game details and parameters\n",
    "'''\n",
    "# make the game to get details\n",
    "game = fl.make_game()\n",
    "obs = game.its_showtime()\n",
    "\n",
    "# parameters\n",
    "num_experiments = 100\n",
    "world_param = fl.get_params()\n",
    "num_states = world_param['num_states']\n",
    "num_actions = world_param['num_actions']\n",
    "len_episodes = 100\n",
    "discount = 0.9\n",
    "# reward function\n",
    "reward = 10 * np.ones((num_states, num_actions))\n",
    "# update rewards (state, action) for movement into goal and traps\n",
    "reward[0, 3] = 0\n",
    "reward[1, 3] = 0\n",
    "reward[2, 3] = 20\n",
    "# start distribution - uniform (but there are 2 confusion states)\n",
    "start_dist = np.ones(num_states)\n",
    "start_dist[3] += 1\n",
    "start_dist /= np.sum(start_dist)\n",
    "\n",
    "# transition distribution (just alpha counts)\n",
    "alpha = np.zeros((num_states, num_states, num_actions))\n",
    "# go through all states\n",
    "# going north is useless\n",
    "alpha[0, 0, 2] = 1\n",
    "alpha[1, 1, 2] = 1\n",
    "alpha[2, 2, 2] = 1\n",
    "alpha[3, 3, 2] = 1\n",
    "# going south is useless if there is a wall\n",
    "alpha[3, 3, 3] = 1\n",
    "# going south has uniform distribution if there is no wall\n",
    "alpha[:, 0, 3] = 1\n",
    "alpha[:, 1, 3] = 1\n",
    "alpha[:, 2, 3] = 1\n",
    "# going left and right is useless, if next to a wall\n",
    "alpha[1, 1, 1] = 1\n",
    "alpha[0, 0, 0] = 1\n",
    "# from middle, going both left/right takes to confusion\n",
    "alpha[3, 2, 0] = 1\n",
    "alpha[3, 2, 1] = 1\n",
    "# from right end, going left takes to confusion\n",
    "alpha[3, 1, 0] = 1\n",
    "# from left end, going right takes to confusion\n",
    "alpha[3, 0, 1] = 1\n",
    "# from confusion it is confusing\n",
    "alpha[2, 3, 0] = 1\n",
    "alpha[0, 3, 0] = 1\n",
    "alpha[2, 3, 1] = 1\n",
    "alpha[1, 3, 1] = 1"
   ]
  },
  {
   "cell_type": "code",
   "execution_count": 4,
   "metadata": {},
   "outputs": [
    {
     "data": {
      "application/vnd.jupyter.widget-view+json": {
       "model_id": "f0385e67cbc0402a83e553c265a0cd49",
       "version_major": 2,
       "version_minor": 0
      },
      "text/plain": [
       "HBox(children=(IntProgress(value=0), HTML(value='')))"
      ]
     },
     "metadata": {},
     "output_type": "display_data"
    },
    {
     "name": "stdout",
     "output_type": "stream",
     "text": [
      "\n",
      "States:\t\t left, right, middle, confuse\n",
      "action left\t [0.   0.99 0.   0.17]\n",
      "action right\t [0.99 0.01 0.   0.82]\n",
      "action up\t [0.01 0.01 0.   0.  ]\n",
      "action down\t [0.   0.   1.   0.01]\n"
     ]
    }
   ],
   "source": [
    "'''\n",
    "Using EM\n",
    "'''\n",
    "# for every experiment\n",
    "for _ in tqdm(range(num_experiments)):\n",
    "    # reset total reward per episode count\n",
    "    total_reward = 0\n",
    "    # create agent\n",
    "    bond = agent.MLEM(num_actions,\n",
    "                      num_states,\n",
    "                      discount,\n",
    "                      len_episodes)\n",
    "    # set transition distribution\n",
    "    bond.alpha = np.copy(alpha)\n",
    "    bond.update_theta()\n",
    "    # set reward details\n",
    "    bond.reward = np.copy(reward)\n",
    "    # set start distribution\n",
    "    bond.start_dist = np.copy(start_dist)\n",
    "\n",
    "    # learn policy\n",
    "    bond.learn(niter=250)\n",
    "    # make game for evaluation\n",
    "    game = fl.make_game()\n",
    "    obs = game.its_showtime()\n",
    "    for _ in range(len_episodes):\n",
    "        action = bond.play(utils.get_dungeon_state(obs))\n",
    "        obs = game.play(action)\n",
    "        if not obs[1] is None:\n",
    "            total_reward += obs[1]        \n",
    "    # add average reward to log\n",
    "    log=log.append(pd.DataFrame(\n",
    "        {'algorithm': \"MDP-EM\",\n",
    "         'average-reward/time-step': total_reward/len_episodes},\n",
    "        index=[log.size+1]))\n",
    "    # quit game\n",
    "    game.play(5)\n",
    "\n",
    "# print final policy\n",
    "print(\"States:\\t\\t left, right, middle, confuse\")\n",
    "print(\"action left\\t\", np.round(bond.policy[0], 2))\n",
    "print(\"action right\\t\", np.round(bond.policy[1], 2))\n",
    "print(\"action up\\t\", np.round(bond.policy[2], 2))\n",
    "print(\"action down\\t\", np.round(bond.policy[3], 2))"
   ]
  },
  {
   "cell_type": "code",
   "execution_count": 5,
   "metadata": {},
   "outputs": [
    {
     "data": {
      "application/vnd.jupyter.widget-view+json": {
       "model_id": "bb0add8529c841cf85559b13c1db6f47",
       "version_major": 2,
       "version_minor": 0
      },
      "text/plain": [
       "HBox(children=(IntProgress(value=0), HTML(value='')))"
      ]
     },
     "metadata": {},
     "output_type": "display_data"
    },
    {
     "name": "stdout",
     "output_type": "stream",
     "text": [
      "\n",
      "Policy:\t\t action (0=left, 1=right, 2=up, 3=down)\n",
      "state left\t 1\n",
      "state right\t 0\n",
      "state middle\t 3\n",
      "state conf\t 0\n"
     ]
    }
   ],
   "source": [
    "'''\n",
    "Using Policy Iteration\n",
    "'''\n",
    "# for every experiment\n",
    "for _ in tqdm(range(num_experiments)):\n",
    "    # reset total reward per episode count\n",
    "    total_reward = 0\n",
    "    # create agent\n",
    "    bond = agent.PoliQ(num_actions,\n",
    "                      num_states,\n",
    "                      discount,\n",
    "                      len_episodes)\n",
    "    # set transition distribution\n",
    "    bond.alpha = np.copy(alpha)\n",
    "    bond.update_theta()\n",
    "    # set reward details\n",
    "    bond.reward = np.copy(reward)\n",
    "    # set start distribution\n",
    "    bond.start_dist = np.copy(start_dist)\n",
    "    \n",
    "    # learn policy\n",
    "    bond.learn(niter=250)\n",
    "    # make game for evaluation\n",
    "    game = fl.make_game()\n",
    "    obs = game.its_showtime()\n",
    "    for _ in range(len_episodes):\n",
    "        action = bond.play(utils.get_dungeon_state(obs))\n",
    "        obs = game.play(action)\n",
    "        if not obs[1] is None:\n",
    "            total_reward += obs[1]        \n",
    "    # add average reward to log\n",
    "    log=log.append(pd.DataFrame(\n",
    "        {'algorithm': \"MDP-PI\",\n",
    "         'average-reward/time-step': total_reward/len_episodes},\n",
    "        index=[log.size+1]))\n",
    "    # quit game\n",
    "    game.play(5)\n",
    "    \n",
    "# print final policy\n",
    "print(\"Policy:\\t\\t action (0=left, 1=right, 2=up, 3=down)\")\n",
    "print(\"state left\\t\", np.round(bond.policy[0], 2))\n",
    "print(\"state right\\t\", np.round(bond.policy[1], 2))\n",
    "print(\"state middle\\t\", np.round(bond.policy[2], 2))\n",
    "print(\"state conf\\t\", np.round(bond.policy[3], 2))"
   ]
  },
  {
   "cell_type": "code",
   "execution_count": 6,
   "metadata": {},
   "outputs": [],
   "source": [
    "'''\n",
    "save the reward values\n",
    "'''\n",
    "log.to_pickle(\"exp_dun.pkl\")"
   ]
  },
  {
   "cell_type": "code",
   "execution_count": 14,
   "metadata": {},
   "outputs": [
    {
     "name": "stderr",
     "output_type": "stream",
     "text": [
      "/usr/lib/python3.7/site-packages/scipy/stats/stats.py:1713: FutureWarning: Using a non-tuple sequence for multidimensional indexing is deprecated; use `arr[tuple(seq)]` instead of `arr[seq]`. In the future this will be interpreted as an array index, `arr[np.array(seq)]`, which will result either in an error or a different result.\n",
      "  return np.add.reduce(sorted[indexer] * weights, axis=axis) / sumval\n"
     ]
    },
    {
     "data": {
      "image/png": "[encoded data removed]",
      "text/plain": [
       "<Figure size 576x108 with 1 Axes>"
      ]
     },
     "metadata": {},
     "output_type": "display_data"
    }
   ],
   "source": [
    "'''\n",
    "code for plotting a good graph\n",
    "'''\n",
    "sns.set(rc={'figure.figsize':(8,1.5)})\n",
    "sns.set_style('whitegrid')\n",
    "sns.barplot(y=\"algorithm\",\n",
    "              x=\"average-reward/time-step\",\n",
    "              data=log,\n",
    "              ci=90)\n",
    "plt.savefig('exp_dun_result.png', dpi=600, bbox_inches=\"tight\")"
   ]
  }
 ],
 "metadata": {
  "kernelspec": {
   "display_name": "Python 3",
   "language": "python",
   "name": "python3"
  },
  "language_info": {
   "codemirror_mode": {
    "name": "ipython",
    "version": 3
   },
   "file_extension": ".py",
   "mimetype": "text/x-python",
   "name": "python",
   "nbconvert_exporter": "python",
   "pygments_lexer": "ipython3",
   "version": "3.7.0"
  }
 },
 "nbformat": 4,
 "nbformat_minor": 2
}
